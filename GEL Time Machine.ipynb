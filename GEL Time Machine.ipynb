{
 "cells": [
  {
   "cell_type": "markdown",
   "id": "f751c688-4ef1-43c0-8865-b94266edf62b",
   "metadata": {
    "tags": []
   },
   "source": [
    "<center>\n",
    "    <img src=\"https://raw.githubusercontent.com/sentinel-1/GEL_time_traveling_machine/master/images/GEL_rocket_orange_light_alt_(1200x628).png\" width=\"300\" alt=\"Logo of the GEL Time Traveling Machine\" />\n",
    "</center>"
   ]
  },
  {
   "cell_type": "markdown",
   "id": "b5d5ff6e-f387-4cc3-977e-58fc53b11cec",
   "metadata": {
    "tags": []
   },
   "source": [
    "# GEL (₾) Time Traveling Machine\n",
    "\n",
    "*Tip: Select different dates in the inputs given below and/or change amount of money and the result will be updated automatically.*\n"
   ]
  },
  {
   "cell_type": "code",
   "execution_count": 1,
   "id": "7e61c479-3a51-40f3-b099-e3aff350146c",
   "metadata": {},
   "outputs": [
    {
     "data": {
      "text/html": [
       "<div id=\"time-traveling-machine-container\"></div>"
      ],
      "text/plain": [
       "<IPython.core.display.HTML object>"
      ]
     },
     "metadata": {},
     "output_type": "display_data"
    }
   ],
   "source": [
    "from IPython.display import display, HTML\n",
    "display(HTML(\"\"\"<div id=\"time-traveling-machine-container\"></div>\"\"\"))"
   ]
  },
  {
   "cell_type": "markdown",
   "id": "7c1d2005-6c90-4e3c-b218-514502f9eb6e",
   "metadata": {},
   "source": [
    "<br>\n",
    "<br>"
   ]
  },
  {
   "cell_type": "code",
   "execution_count": 2,
   "id": "985bc8aa-b74d-43e7-9b1f-4faf0cb1cac0",
   "metadata": {},
   "outputs": [
    {
     "name": "stdout",
     "output_type": "stream",
     "text": [
      "\n",
      "Notebook START time: 2022-07-16 20:51:40.155719 UTC\n",
      "\n"
     ]
    }
   ],
   "source": [
    "from datetime import datetime, timedelta\n",
    "nb_st = datetime.utcnow()\n",
    "print(f\"\\nNotebook START time: {nb_st} UTC\\n\")"
   ]
  },
  {
   "cell_type": "code",
   "execution_count": 3,
   "id": "70fbc347-dd2a-49e8-be6e-7fce68c37ea6",
   "metadata": {},
   "outputs": [
    {
     "data": {
      "text/html": [
       "<style>\n",
       "@media (max-width: 540px) {\n",
       "  .output .output_subarea {\n",
       "    max-width: 100%;\n",
       "  }\n",
       "}\n",
       "</style>\n",
       "<script>\n",
       "  function code_toggle() {\n",
       "    if (code_shown){\n",
       "      $('div.input').hide('500');\n",
       "      $('#toggleButton').val('🔎 Show Python Code')\n",
       "    } else {\n",
       "      $('div.input').show('500');\n",
       "      $('#toggleButton').val('⌦ Hide Python Code')\n",
       "    }\n",
       "    code_shown = !code_shown\n",
       "  }\n",
       "\n",
       "  $( document ).ready(function(){\n",
       "    code_shown=false;\n",
       "    $('div.input').hide();\n",
       "    $('div.input:contains(\"%%HTML\")').removeClass( \"input\")\n",
       "    $('div.input:contains(\"%%capture\")').removeClass(\"input\")\n",
       "  });\n",
       "</script>\n",
       "<form action=\"javascript:code_toggle()\">\n",
       "  <input type=\"submit\" id=\"toggleButton\" value=\"🔎 Show Python Code\"\n",
       "         class=\"btn btn-default btn-lg\">\n",
       "</form>\n"
      ],
      "text/plain": [
       "<IPython.core.display.HTML object>"
      ]
     },
     "metadata": {},
     "output_type": "display_data"
    }
   ],
   "source": [
    "%%HTML\n",
    "<style>\n",
    "@media (max-width: 540px) {\n",
    "  .output .output_subarea {\n",
    "    max-width: 100%;\n",
    "  }\n",
    "}\n",
    "</style>\n",
    "<script>\n",
    "  function code_toggle() {\n",
    "    if (code_shown){\n",
    "      $('div.input').hide('500');\n",
    "      $('#toggleButton').val('🔎 Show Python Code')\n",
    "    } else {\n",
    "      $('div.input').show('500');\n",
    "      $('#toggleButton').val('⌦ Hide Python Code')\n",
    "    }\n",
    "    code_shown = !code_shown\n",
    "  }\n",
    "\n",
    "  $( document ).ready(function(){\n",
    "    code_shown=false;\n",
    "    $('div.input').hide();\n",
    "    $('div.input:contains(\"%%HTML\")').removeClass( \"input\")\n",
    "    $('div.input:contains(\"%%capture\")').removeClass(\"input\")\n",
    "  });\n",
    "</script>\n",
    "<form action=\"javascript:code_toggle()\">\n",
    "  <input type=\"submit\" id=\"toggleButton\" value=\"🔎 Show Python Code\"\n",
    "         class=\"btn btn-default btn-lg\">\n",
    "</form>"
   ]
  },
  {
   "cell_type": "markdown",
   "id": "28f39faa-ecb5-4314-974e-1f453f6929ed",
   "metadata": {
    "tags": []
   },
   "source": [
    "## Index\n",
    "\n",
    "- [How it works](#How-it-works)\n",
    "- [Data](#Data)\n",
    "  - [Import the data](#Import-the-data)\n",
    "  - [Descriptive statistics of the data](#Descriptive-statistics-of-the-data)\n",
    "  - [Visualize the data](#Visualize-the-data)\n",
    "- [Model](#Model)\n",
    "  - [Train and Validate Models](#Train-and-Validate-Models)\n",
    "  - [Train final versions of models](#Train-final-versions-of-models)\n",
    "  - [Number of Outliers detected by RANSAC](#Number-of-Outliers-detected-by-RANSAC)\n",
    "  - [Plot resulting models](#Plot-resulting-models)\n",
    "  - [Select a model](#Select-a-model)\n",
    "- [Make predictions using the selected model](#Make-predictions-using-the-selected-model)\n",
    "- [Build the solution](#Build-the-solution)\n"
   ]
  },
  {
   "cell_type": "markdown",
   "id": "5dd9fa34-ca2c-44dc-aa2b-4ea4428fc19d",
   "metadata": {},
   "source": [
    "## How it works\n",
    "\n",
    "For the past time it uses actual CPI data and for the future time it uses CPI values predicted by the selected model from the models created in this document.\n",
    "\n",
    "Let's recall concepts of nominal value of money and purchasing power of money:\n",
    "- Nominal value refers to the number of units of money you have (or simply amount of money).\n",
    "- Purchasing power refers to how much of goods or services you can buy with the certain number of units of your money.\n",
    "\n",
    "Nowadays, if you live normal life between the two speciphic dates, then the nominal value of your money during the time is genrally fixed and the purchasing power is generally varying. For example lets say you have 100 GEL banknote:\n",
    "- The nominal value of the 100 GEL banknote is always 100 GEL, because it represents 100 units of GEL and this value is fixed.\n",
    "- The purchasing power of the 100 GEL banknote is varying, because 100 units of GEL can buy different amount of goods or services in different points in time, sometimes it is increasing but most of the time is decreasing due to the inflation.\n",
    "\n",
    "The GEL Time Traveling Machine works in a very similar way as a normal CPI Inflation Calculator would work, a slight difference is that if you time travel between the two speciphic dates using the GEL Time Traveling Machine, then it has a side effect of inverting the above mentioned properties of the nominal value and purchasing power, which allows to see a different perspective of the same event, this is how the time travel works:\n",
    "- Purchasing power becomes fixed constant relative to the date from where you travel.\n",
    "- Nominal value of money in your pocket becomes varying depending on where you go in time.\n",
    "\n",
    "Let's highlight the difference between the GEL Time Traveling Machine (implemented in this notebook) and the GEL CPI Inflation Calculator (not implemented in this notebook):\n",
    "- Formula used by the standard \"GEL CPI Inflation Calculator\" would be: $\\displaystyle\\Large ₾_{t_2}=\\frac {₾_{t_1}} {CPI^₾_{t_1}} CPI^₾_{t_2}$\n",
    "- Formula used by the \"GEL Time Traveling Machine\" is: $\\displaystyle\\Large ₾_{t_2}=\\frac {₾_{t_1}} {CPI^₾_{t_2}} CPI^₾_{t_1}$\n",
    "\n",
    "where the ${t_1}$ and ${t_2}$ denote \"from\" and \"to\" dates, respectively. Thus, technically the final effect is just to exchange places of the \"from\" and \"to\" dates in the GEL Time Traveling Machine relative to the GEL CPI Inflation Calculator, other than that they work alike. Needless to say that even numbers are the same - just in a different order. Well, that is what a time machine usually do, they exchange \"from\" and \"to\" times in a blink of an eye.\n",
    "\n",
    "In conclusion, the GEL Time Traveling Machine shows what would happen in a scenario where the purchasing power is a fixed constant and nominal value of the money in your pocket is varying instead. With only these two changes and all other things being equal, all the final practical effects are equivalent of what could happen in reality, because the varying nominal value in this scenario is compensated by the fixed purchasing power, so the result you get in the GEL Time Traveling Machine above is just a slightly different angle of view into the same actual reality and it can give you some practical insights into inflation and helps you to understand how your pocket is actually affected by the inflation.\n"
   ]
  },
  {
   "cell_type": "markdown",
   "id": "8611e8f7-7032-47b7-ad61-b97090634235",
   "metadata": {
    "tags": []
   },
   "source": [
    "## Data\n",
    "\n",
    "Currently Geostat is using 2010 as the base year for the CPI data.\n",
    "\n",
    "Data sources:\n",
    "- Statistical data (in Excel format) of the CPI (Consumer Price Index) and a relevant metadata (in PDF format) are retrieved on Jun 21, 2022 from the website of the National Statistics Office of Georgia (Geostat): [geostat.ge](https://www.geostat.ge/en/)\n",
    "- Same data is automatically downloaded/updated from the same source by the notebook into the separate file when the `DOWNLOAD_UPDATE` flag is set to `True` in order to use latest available version in this notebook."
   ]
  },
  {
   "cell_type": "code",
   "execution_count": 4,
   "id": "891d2ac4-d845-43a1-83aa-f9fefe9365bb",
   "metadata": {},
   "outputs": [],
   "source": [
    "BASE_YEAR = 2010"
   ]
  },
  {
   "cell_type": "code",
   "execution_count": 5,
   "id": "b4bfda7c-048c-4ea4-b2a7-f1b8bfedfcaf",
   "metadata": {},
   "outputs": [],
   "source": [
    "VERBOSE = False\n",
    "DOWNLOAD_UPDATE = False"
   ]
  },
  {
   "cell_type": "code",
   "execution_count": 6,
   "id": "c0835ed2-e5d0-4e84-bc0b-a84426f3b976",
   "metadata": {},
   "outputs": [],
   "source": [
    "import numpy as np\n",
    "import pandas as pd\n",
    "from pathlib import Path\n",
    "import wget\n",
    "from sklearn import linear_model\n",
    "from sklearn.metrics import mean_absolute_error, mean_squared_error, r2_score\n",
    "from sklearn.metrics import make_scorer\n",
    "from sklearn.model_selection import train_test_split, cross_validate\n",
    "import matplotlib.pyplot as plt\n",
    "import seaborn as sns\n",
    "import json\n",
    "\n",
    "sns.set_theme()\n"
   ]
  },
  {
   "cell_type": "markdown",
   "id": "a7ec1d86-b6e8-4e50-b1c4-fbdab4cb0a15",
   "metadata": {},
   "source": [
    "### Import the data"
   ]
  },
  {
   "cell_type": "code",
   "execution_count": 7,
   "id": "6477ea52-bfb8-4b0f-b628-a75f859184b8",
   "metadata": {},
   "outputs": [],
   "source": [
    "cpi_data_url = (\"https://www.geostat.ge/media/\"\n",
    "                f\"46069/Consumer-Price-Index-({BASE_YEAR}=100).xlsx\")\n",
    "cpi_data_file = Path.cwd() / \"data/geostat/EN/Excel/CPI.xlsx\"\n",
    "backup_file_name = \"{}_old{}\".format(cpi_data_file.stem, cpi_data_file.suffix)\n",
    "backup_file = cpi_data_file.with_name(backup_file_name)\n",
    "\n",
    "if DOWNLOAD_UPDATE:\n",
    "    if cpi_data_file.exists():\n",
    "        cpi_data_file.rename(backup_file)\n",
    "    print(\"Downloading CPI data from Geostat:\")\n",
    "    cpi_data_file = Path(wget.download(cpi_data_url, out=str(cpi_data_file)))"
   ]
  },
  {
   "cell_type": "code",
   "execution_count": 8,
   "id": "9b455854-2b13-406f-bf56-df804f1cd75f",
   "metadata": {},
   "outputs": [],
   "source": [
    "cpi_df = pd.read_excel(cpi_data_file, skiprows=2)\n",
    "cpi_df = cpi_df.rename({'Unnamed: 0': 'Year'}, axis=1)\n",
    "\n",
    "if VERBOSE:\n",
    "    display(cpi_df.tail())"
   ]
  },
  {
   "cell_type": "code",
   "execution_count": 9,
   "id": "64ce6815-84f4-428b-b91a-1a92f95e8eb1",
   "metadata": {
    "tags": []
   },
   "outputs": [],
   "source": [
    "df = (cpi_df\n",
    "      .melt(id_vars=['Year'], var_name='Month', value_name='CPI')\n",
    "      .replace({\n",
    "          'I': 1,\n",
    "          'II': 2,\n",
    "          'III': 3,\n",
    "          'IV': 4,\n",
    "          'V': 5,\n",
    "          'VI': 6,\n",
    "          'VII': 7,\n",
    "          'VIII': 8,\n",
    "          'IX': 9,\n",
    "          'X': 10,\n",
    "          'XI': 11,\n",
    "          'XII': 12\n",
    "      })\n",
    "      .set_index(['Year','Month'])\n",
    "      .sort_index()\n",
    "      .dropna()\n",
    "     )\n",
    "\n",
    "if VERBOSE:\n",
    "    display(df.tail(14))"
   ]
  },
  {
   "cell_type": "code",
   "execution_count": 10,
   "id": "7e8f37dc-4f24-4c62-aee0-121003aa9481",
   "metadata": {},
   "outputs": [
    {
     "name": "stdout",
     "output_type": "stream",
     "text": [
      "\n",
      "Given CPI data covers the interval of time from January 2000 to May 2022 (inclusive).\n",
      "\n"
     ]
    }
   ],
   "source": [
    "start_month, end_month = [\n",
    "    pd.Timestamp(year=idx[0], month=idx[1], day=1)\n",
    "    for idx in (df.index.min(), df.index.max())]\n",
    "\n",
    "print(\"\\nGiven CPI data covers the interval of time \"\n",
    "      f\"from {start_month:%B %Y} to {end_month:%B %Y} (inclusive).\\n\")"
   ]
  },
  {
   "cell_type": "code",
   "execution_count": 11,
   "id": "410ef81f-1ef4-40ea-90dc-101333e91226",
   "metadata": {},
   "outputs": [],
   "source": [
    "if df.loc[BASE_YEAR, 'CPI'].mean().item() != 100:\n",
    "    if backup_file.exists():\n",
    "        backup_file.rename(backup_file.with_stem(f\"CPI_base_{BASE_YEAR}\"))\n",
    "    cpi_data_file.unlink()\n",
    "    raise Exception(\"ERROR: CPI of base year != 100. Please verify the data.\")\n",
    "elif backup_file.exists():\n",
    "    backup_file.unlink()"
   ]
  },
  {
   "cell_type": "code",
   "execution_count": 12,
   "id": "bd5fff6d-2870-4503-a0fc-05f260696a08",
   "metadata": {},
   "outputs": [],
   "source": [
    "if VERBOSE:\n",
    "    display(df.info())"
   ]
  },
  {
   "cell_type": "markdown",
   "id": "4bb02010-a677-4331-9c79-ea1401777328",
   "metadata": {},
   "source": [
    "### Descriptive statistics of the data"
   ]
  },
  {
   "cell_type": "code",
   "execution_count": 13,
   "id": "a861cfc4-f3b5-4d09-a522-6e6866db5f17",
   "metadata": {},
   "outputs": [
    {
     "data": {
      "text/html": [
       "<div>\n",
       "<style scoped>\n",
       "    .dataframe tbody tr th:only-of-type {\n",
       "        vertical-align: middle;\n",
       "    }\n",
       "\n",
       "    .dataframe tbody tr th {\n",
       "        vertical-align: top;\n",
       "    }\n",
       "\n",
       "    .dataframe thead th {\n",
       "        text-align: right;\n",
       "    }\n",
       "</style>\n",
       "<table border=\"1\" class=\"dataframe\">\n",
       "  <thead>\n",
       "    <tr style=\"text-align: right;\">\n",
       "      <th></th>\n",
       "      <th>CPI</th>\n",
       "    </tr>\n",
       "  </thead>\n",
       "  <tbody>\n",
       "    <tr>\n",
       "      <th>count</th>\n",
       "      <td>269.000000</td>\n",
       "    </tr>\n",
       "    <tr>\n",
       "      <th>mean</th>\n",
       "      <td>99.125119</td>\n",
       "    </tr>\n",
       "    <tr>\n",
       "      <th>std</th>\n",
       "      <td>30.209744</td>\n",
       "    </tr>\n",
       "    <tr>\n",
       "      <th>min</th>\n",
       "      <td>51.802700</td>\n",
       "    </tr>\n",
       "    <tr>\n",
       "      <th>25%</th>\n",
       "      <td>70.434700</td>\n",
       "    </tr>\n",
       "    <tr>\n",
       "      <th>50%</th>\n",
       "      <td>105.700900</td>\n",
       "    </tr>\n",
       "    <tr>\n",
       "      <th>75%</th>\n",
       "      <td>117.965000</td>\n",
       "    </tr>\n",
       "    <tr>\n",
       "      <th>max</th>\n",
       "      <td>173.184600</td>\n",
       "    </tr>\n",
       "  </tbody>\n",
       "</table>\n",
       "</div>"
      ],
      "text/plain": [
       "              CPI\n",
       "count  269.000000\n",
       "mean    99.125119\n",
       "std     30.209744\n",
       "min     51.802700\n",
       "25%     70.434700\n",
       "50%    105.700900\n",
       "75%    117.965000\n",
       "max    173.184600"
      ]
     },
     "metadata": {},
     "output_type": "display_data"
    }
   ],
   "source": [
    "display(df.describe())"
   ]
  },
  {
   "cell_type": "markdown",
   "id": "00f8e9e6-9ff1-4572-ac84-d054262623d2",
   "metadata": {},
   "source": [
    "### Visualize the data\n",
    "\n",
    "Before starting to build a linear model, let's visually inspect actual\n",
    "data points versus fitted line, using a regression plot of the CPI data,\n",
    "in order to determine if a linear regression model would be an\n",
    "appropriate choice for the given CPI data or not."
   ]
  },
  {
   "cell_type": "code",
   "execution_count": 14,
   "id": "e72a7dea-b24f-495d-b577-769ac5575e51",
   "metadata": {},
   "outputs": [],
   "source": [
    "def get_month_number(year: int, month: int) -> int:\n",
    "    return 12 - start_month.month + 12*(year-start_month.year-1) + month\n",
    "\n",
    "if VERBOSE:\n",
    "    print(\"December 1999 =>\", get_month_number(year=1999, month=12))"
   ]
  },
  {
   "cell_type": "code",
   "execution_count": 15,
   "id": "7ad57282-8113-48f6-a6ee-b486c32792d3",
   "metadata": {},
   "outputs": [],
   "source": [
    "if VERBOSE:\n",
    "    for idx, item in df.iterrows():\n",
    "        print(idx, \"=>\", get_month_number(*idx))"
   ]
  },
  {
   "cell_type": "code",
   "execution_count": 16,
   "id": "e9155c0f-a670-4b63-a0be-767b384d9278",
   "metadata": {},
   "outputs": [
    {
     "data": {
      "image/png": "[encoded data removed]",
      "text/plain": [
       "<Figure size 1296x864 with 1 Axes>"
      ]
     },
     "metadata": {
      "needs_background": "light"
     },
     "output_type": "display_data"
    }
   ],
   "source": [
    "fig = plt.figure(figsize=(18,12))\n",
    "sns.regplot(y=df['CPI'], x=[get_month_number(*idx) for idx in df.index], ci=99)\n",
    "plt.title(\"CPI (Consumer Price Index)\", fontweight=\"bold\")\n",
    "plt.gca().set(\n",
    "    xticks=[get_month_number(year, 1)\n",
    "            for year in df.index.get_level_values('Year').unique()],\n",
    "    xticklabels=df.index.get_level_values('Year').unique().tolist(),\n",
    "    xlabel='')\n",
    "plt.show()\n",
    "plt.close(fig)"
   ]
  },
  {
   "cell_type": "markdown",
   "id": "516e00c1-2098-4be7-9d22-be39faecd160",
   "metadata": {
    "tags": []
   },
   "source": [
    "## Model\n",
    "\n",
    "Let's first build and evaluate some models and select one of them later:\n",
    "- `LinearRegression` is a linear model representing an Ordinary least squares Linear Regression.\n",
    "- `RANSACRegressor` is a linear model which tries to detect and ignore outliers using the RANSAC (RANdom SAmple Consensus) algorithm."
   ]
  },
  {
   "cell_type": "code",
   "execution_count": 17,
   "id": "4df6d606-9464-4faf-82c9-01a4463100ea",
   "metadata": {},
   "outputs": [],
   "source": [
    "TEST_SIZE = 0.33\n",
    "RAND_STATE = 2022  # fix random state for reproducibility"
   ]
  },
  {
   "cell_type": "code",
   "execution_count": 18,
   "id": "428b7848-1231-4552-9124-033c42a52dc6",
   "metadata": {
    "tags": []
   },
   "outputs": [],
   "source": [
    "# Linear model\n",
    "lr = linear_model.LinearRegression()\n",
    "# Robust linear model with RANSAC algorithm\n",
    "ransac = linear_model.RANSACRegressor(max_trials=100000,\n",
    "                                      random_state=RAND_STATE)"
   ]
  },
  {
   "cell_type": "code",
   "execution_count": 19,
   "id": "83b25ceb-7fe1-49ec-9eea-ee3c90003500",
   "metadata": {},
   "outputs": [],
   "source": [
    "# Prepare data for training\n",
    "Y = df['CPI'].to_numpy()\n",
    "X = np.array([[get_month_number(*idx)] for idx in df.index])\n",
    "    \n",
    "X_train, X_test, Y_train, Y_test = train_test_split(X, Y,\n",
    "                                                    test_size=TEST_SIZE,\n",
    "                                                    random_state=RAND_STATE)"
   ]
  },
  {
   "cell_type": "markdown",
   "id": "57bf1a64-2273-4416-9a17-6e3338efdf19",
   "metadata": {},
   "source": [
    "### Train and Validate Models\n",
    "\n",
    "Let's evaluate models by measuring select metrics in different contexts.\n",
    "\n",
    "The following metrics are used for validation:\n",
    "- Mean absolute error (MAE)\n",
    "- Mean squared error (MSE)\n",
    "- Coefficient of determination ($R^2$)"
   ]
  },
  {
   "cell_type": "code",
   "execution_count": 20,
   "id": "3fefbe0e-2976-4ae2-879c-c758ddb093da",
   "metadata": {
    "tags": []
   },
   "outputs": [
    {
     "name": "stdout",
     "output_type": "stream",
     "text": [
      "In-sample cross-validated performance using 3 folds:\n",
      "        LinearRegression:\n",
      "        MAE = 3.65\n",
      "        MSE = 24.42\n",
      "        R² = 0.95\n",
      "        RANSACRegressor:\n",
      "        MAE = 3.55\n",
      "        MSE = 24.74\n",
      "        R² = 0.95\n",
      "\n",
      "Out-of-sample cross-validated performance using 3 folds:\n",
      "        LinearRegression:\n",
      "        MAE = 4.89\n",
      "        MSE = 33.18\n",
      "        R² = 0.71\n",
      "        RANSACRegressor:\n",
      "        MAE = 5.44\n",
      "        MSE = 38.23\n",
      "        R² = 0.64\n",
      "\n",
      "\n",
      "\n",
      "Preliminary models trained on 67.0% of data for evaluation:\n",
      "    \"LinearRegression\":\n",
      "    Coefficient (slope) = 0.3826\n",
      "    Intercept = 48.08\n",
      "    \"RANSACRegressor\":\n",
      "    Coefficient (slope) = 0.3826\n",
      "    Intercept = 48.08\n",
      "\n",
      "\n",
      "    In-sample performance on the 67.0% train data:\n",
      "        LinearRegression:\n",
      "        MAE = 3.87\n",
      "        MSE = 25.52\n",
      "        R² = 0.97\n",
      "        RANSACRegressor:\n",
      "        MAE = 3.87\n",
      "        MSE = 25.52\n",
      "        R² = 0.97\n",
      "\n",
      "\n",
      "    Out-of-sample performance on the 33.0% test data:\n",
      "        LinearRegression:\n",
      "        MAE = 3.93\n",
      "        MSE = 25.14\n",
      "        R² = 0.97\n",
      "        RANSACRegressor:\n",
      "        MAE = 3.93\n",
      "        MSE = 25.14\n",
      "        R² = 0.97\n",
      "\n"
     ]
    }
   ],
   "source": [
    "CV=3\n",
    "cv_results_lr,  cv_results_ransac = [\n",
    "    cross_validate(model, X, Y, cv=CV,\n",
    "                   scoring=[\n",
    "                       \"neg_mean_absolute_error\",\n",
    "                       \"neg_mean_squared_error\",\n",
    "                       \"r2\",\n",
    "                   ],\n",
    "                   return_train_score=True,\n",
    "                  )\n",
    "    for model in (lr, ransac)]\n",
    "    \n",
    "print(\n",
    "        f\"\"\"In-sample cross-validated performance using {CV} folds:\n",
    "        {lr.__class__.__name__}:\n",
    "        MAE = {-cv_results_lr[\"train_neg_mean_absolute_error\"].mean():.2f}\n",
    "        MSE = {-cv_results_lr[\"train_neg_mean_squared_error\"].mean():.2f}\n",
    "        R\\u00b2 = {cv_results_lr[\"train_r2\"].mean():.2f}\n",
    "        {ransac.__class__.__name__}:\n",
    "        MAE = {-cv_results_ransac[\"train_neg_mean_absolute_error\"].mean():.2f}\n",
    "        MSE = {-cv_results_ransac[\"train_neg_mean_squared_error\"].mean():.2f}\n",
    "        R\\u00b2 = {cv_results_ransac[\"train_r2\"].mean():.2f}\n",
    "\"\"\")\n",
    "print(\n",
    "        f\"\"\"Out-of-sample cross-validated performance using {CV} folds:\n",
    "        {lr.__class__.__name__}:\n",
    "        MAE = {-cv_results_lr[\"test_neg_mean_absolute_error\"].mean():.2f}\n",
    "        MSE = {-cv_results_lr[\"test_neg_mean_squared_error\"].mean():.2f}\n",
    "        R\\u00b2 = {cv_results_lr[\"test_r2\"].mean():.2f}\n",
    "        {ransac.__class__.__name__}:\n",
    "        MAE = {-cv_results_ransac[\"test_neg_mean_absolute_error\"].mean():.2f}\n",
    "        MSE = {-cv_results_ransac[\"test_neg_mean_squared_error\"].mean():.2f}\n",
    "        R\\u00b2 = {cv_results_ransac[\"test_r2\"].mean():.2f}\n",
    "\"\"\")\n",
    "\n",
    "lr.fit(X_train, Y_train)\n",
    "ransac.fit(X_train, Y_train)\n",
    "\n",
    "Y_train_pred = lr.predict(X_train)\n",
    "Y_train_pred_ransac = ransac.predict(X_train)\n",
    "\n",
    "Y_pred = lr.predict(X_test)\n",
    "Y_pred_ransac = ransac.predict(X_test)\n",
    "\n",
    "print(\n",
    "    f'''\\n\\nPreliminary models trained on {\n",
    "      (1-TEST_SIZE)*100\n",
    "    :.1f}% of data for evaluation:\n",
    "    \"{lr.__class__.__name__}\":\n",
    "    Coefficient (slope) = {lr.coef_[0]:.4f}\n",
    "    Intercept = {lr.intercept_:.2f}\n",
    "    \"{ransac.__class__.__name__}\":\n",
    "    Coefficient (slope) = {ransac.estimator_.coef_[0]:.4f}\n",
    "    Intercept = {ransac.estimator_.intercept_:.2f}\n",
    "''')\n",
    "print(f\"\"\"\n",
    "    In-sample performance on the {(1-TEST_SIZE)*100:.1f}% train data:\n",
    "        {lr.__class__.__name__}:\n",
    "        MAE = {mean_absolute_error(Y_train, Y_train_pred):.2f}\n",
    "        MSE = {mean_squared_error(Y_train, Y_train_pred):.2f}\n",
    "        R\\u00b2 = {r2_score(Y_train, Y_train_pred):.2f}\n",
    "        {ransac.__class__.__name__}:\n",
    "        MAE = {mean_absolute_error(Y_train, Y_train_pred_ransac):.2f}\n",
    "        MSE = {mean_squared_error(Y_train, Y_train_pred_ransac):.2f}\n",
    "        R\\u00b2 = {r2_score(Y_train, Y_train_pred_ransac):.2f}\n",
    "\"\"\")\n",
    "print(f\"\"\"\n",
    "    Out-of-sample performance on the {TEST_SIZE*100:.1f}% test data:\n",
    "        {lr.__class__.__name__}:\n",
    "        MAE = {mean_absolute_error(Y_test, Y_pred):.2f}\n",
    "        MSE = {mean_squared_error(Y_test, Y_pred):.2f}\n",
    "        R\\u00b2 = {r2_score(Y_test, Y_pred):.2f}\n",
    "        {ransac.__class__.__name__}:\n",
    "        MAE = {mean_absolute_error(Y_test, Y_pred_ransac):.2f}\n",
    "        MSE = {mean_squared_error(Y_test, Y_pred_ransac):.2f}\n",
    "        R\\u00b2 = {r2_score(Y_test, Y_pred_ransac):.2f}\n",
    "\"\"\")\n"
   ]
  },
  {
   "cell_type": "markdown",
   "id": "791f99a6-c98c-4c2e-91b6-21df33be2aa1",
   "metadata": {
    "tags": []
   },
   "source": [
    "### Train final versions of models\n",
    "\n",
    "Let's use all the available data to train final versions of the models.\n",
    "We can additionally validate in-sample performance here. "
   ]
  },
  {
   "cell_type": "code",
   "execution_count": 21,
   "id": "133f05f4-0450-4a92-9a5c-1f2bbbfa122a",
   "metadata": {
    "tags": []
   },
   "outputs": [
    {
     "name": "stdout",
     "output_type": "stream",
     "text": [
      "\n",
      "Final models trained on 100% of data:\n",
      "    \"LinearRegression\":\n",
      "    Coefficient (slope) = 0.3829\n",
      "    Intercept = 47.82\n",
      "    \"RANSACRegressor\":\n",
      "    Coefficient (slope) = 0.3775\n",
      "    Intercept = 48.30\n",
      "\n",
      "\n",
      "    In-sample performance of the final models:\n",
      "        LinearRegression:\n",
      "        MAE = 3.85\n",
      "        MSE = 25.34\n",
      "        R² = 0.97\n",
      "        RANSACRegressor:\n",
      "        MAE = 3.75\n",
      "        MSE = 25.58\n",
      "        R² = 0.97\n",
      "\n"
     ]
    }
   ],
   "source": [
    "# Train final models using all data:\n",
    "lr.fit(X, Y)\n",
    "ransac.fit(X, Y)\n",
    "\n",
    "print(\n",
    "    f'''\\nFinal models trained on 100% of data:\n",
    "    \"{lr.__class__.__name__}\":\n",
    "    Coefficient (slope) = {lr.coef_[0]:.4f}\n",
    "    Intercept = {lr.intercept_:.2f}\n",
    "    \"{ransac.__class__.__name__}\":\n",
    "    Coefficient (slope) = {ransac.estimator_.coef_[0]:.4f}\n",
    "    Intercept = {ransac.estimator_.intercept_:.2f}\n",
    "''')\n",
    "Y_pred = lr.predict(X)\n",
    "Y_pred_ransac = ransac.predict(X)\n",
    "print(\n",
    "    f\"\"\"\n",
    "    In-sample performance of the final models:\n",
    "        {lr.__class__.__name__}:\n",
    "        MAE = {mean_absolute_error(Y, Y_pred):.2f}\n",
    "        MSE = {mean_squared_error(Y, Y_pred):.2f}\n",
    "        R\\u00b2 = {r2_score(Y, Y_pred):.2f}\n",
    "        {ransac.__class__.__name__}:\n",
    "        MAE = {mean_absolute_error(Y, Y_pred_ransac):.2f}\n",
    "        MSE = {mean_squared_error(Y, Y_pred_ransac):.2f}\n",
    "        R\\u00b2 = {r2_score(Y, Y_pred_ransac):.2f}\n",
    "\"\"\")"
   ]
  },
  {
   "cell_type": "markdown",
   "id": "7396470d-6402-466b-ac34-0a37941551d3",
   "metadata": {},
   "source": [
    "### Number of Outliers detected by RANSAC\n",
    "\n",
    "Let's see how many outliers has `RANSACRegressor` model detected this time."
   ]
  },
  {
   "cell_type": "code",
   "execution_count": 22,
   "id": "2fba1e92-975a-4c6e-b4c8-b5ae6f77b1e2",
   "metadata": {},
   "outputs": [
    {
     "name": "stdout",
     "output_type": "stream",
     "text": [
      "RANSAC algorithm has detected 3 outliers in the CPI data.\n"
     ]
    }
   ],
   "source": [
    "inlier_mask = ransac.inlier_mask_\n",
    "outlier_mask = np.logical_not(inlier_mask)\n",
    "print(f\"RANSAC algorithm has detected {outlier_mask.sum()} outliers \"\n",
    "      \"in the CPI data.\")"
   ]
  },
  {
   "cell_type": "markdown",
   "id": "32cde1bb-19c8-450f-8cd8-ec1a0402eb23",
   "metadata": {
    "tags": []
   },
   "source": [
    "### Plot resulting models\n",
    "\n",
    "Plot the data and final versions of models together to see how well do they fit the data."
   ]
  },
  {
   "cell_type": "code",
   "execution_count": 23,
   "id": "2bde4055-58dc-46a4-ac8a-e1fc91355ff6",
   "metadata": {},
   "outputs": [
    {
     "data": {
      "image/png": "[encoded data removed]",
      "text/plain": [
       "<Figure size 1296x864 with 1 Axes>"
      ]
     },
     "metadata": {
      "needs_background": "light"
     },
     "output_type": "display_data"
    }
   ],
   "source": [
    "fig = plt.figure(figsize=(18,12))\n",
    "\n",
    "plt.scatter(X[inlier_mask], Y[inlier_mask], color=\"yellowgreen\", marker=\".\",\n",
    "            label=\"Inliers\")\n",
    "plt.scatter(X[outlier_mask], Y[outlier_mask], color=\"gold\", marker=\".\",\n",
    "            label=\"Outliers\")\n",
    "\n",
    "line_X = np.arange(X.min(), X.max())[:, np.newaxis]\n",
    "line_y = lr.predict(line_X)\n",
    "line_y_ransac = ransac.predict(line_X)\n",
    "\n",
    "plt.plot(line_X, line_y, color=\"navy\", linewidth=2,\n",
    "         label=\"Linear regressor\")\n",
    "plt.plot(line_X, line_y_ransac, color=\"cornflowerblue\", linewidth=2,\n",
    "         label=\"RANSAC regressor\")\n",
    "plt.legend(loc=\"upper left\")\n",
    "plt.title(\"Linear models for CPI (Consumer Price Index) prediction\",\n",
    "          fontweight=\"bold\")\n",
    "plt.gca().set(\n",
    "    xticks=[get_month_number(year, 1)\n",
    "            for year in df.index.get_level_values('Year').unique()],\n",
    "    xticklabels=df.index.get_level_values('Year').unique().tolist(),\n",
    "    xlabel='',\n",
    "    ylabel='CPI',\n",
    ")\n",
    "plt.show()\n",
    "plt.close(fig)"
   ]
  },
  {
   "cell_type": "markdown",
   "id": "907cb1dd-abf2-4f16-be8b-a3e293bdd04f",
   "metadata": {},
   "source": [
    "### Select a model\n",
    "\n",
    "Select one of the models we built for usage in the GEL Time Traveling machine."
   ]
  },
  {
   "cell_type": "code",
   "execution_count": 24,
   "id": "8fae283d-be26-438f-9a28-5ebc9c4f3078",
   "metadata": {
    "tags": []
   },
   "outputs": [
    {
     "name": "stdout",
     "output_type": "stream",
     "text": [
      "Selected model is: RANSACRegressor\n"
     ]
    }
   ],
   "source": [
    "SELECTED_MODEL = 1\n",
    "\n",
    "model = [\n",
    "    lr,  # 0\n",
    "    ransac,  # 1\n",
    "][SELECTED_MODEL]\n",
    "model_color = [\n",
    "    \"navy\",\n",
    "    \"cornflowerblue\",\n",
    "][SELECTED_MODEL]\n",
    "\n",
    "print(f'Selected model is: {model.__class__.__name__}')"
   ]
  },
  {
   "cell_type": "markdown",
   "id": "dbece523-c931-44be-b962-cc146c3e8e6d",
   "metadata": {},
   "source": [
    "## Make predictions using the selected model"
   ]
  },
  {
   "cell_type": "code",
   "execution_count": 25,
   "id": "11c308c4-5740-45c3-b2bd-f622342614f5",
   "metadata": {},
   "outputs": [],
   "source": [
    "pred_years = tuple(range(start_month.year, end_month.year + 11))\n",
    "df_pred = pd.DataFrame(\n",
    "    index=pd.MultiIndex.from_tuples([(Y,M)\n",
    "                                     for Y in pred_years\n",
    "                                     for M in range(1, 13)\n",
    "                                    ], names=['Year', 'Month']))\n",
    "pred_month_num = np.array([get_month_number(*idx) for idx in df_pred.index])\n",
    "df_pred['CPI_pred'] = model.predict(pred_month_num.reshape(-1, 1))\n",
    "\n",
    "if VERBOSE:\n",
    "    display(df_pred)"
   ]
  },
  {
   "cell_type": "code",
   "execution_count": 26,
   "id": "41614712-3f18-4cbb-bd85-6ca9845cb668",
   "metadata": {},
   "outputs": [
    {
     "data": {
      "image/png": "[encoded data removed]",
      "text/plain": [
       "<Figure size 1440x864 with 1 Axes>"
      ]
     },
     "metadata": {
      "needs_background": "light"
     },
     "output_type": "display_data"
    }
   ],
   "source": [
    "fig = plt.figure(figsize=(20,12))\n",
    "\n",
    "plt.scatter(pred_month_num, df_pred['CPI_pred'], color=model_color, marker=\".\",\n",
    "            label=\"Predicted CPI\")\n",
    "plt.scatter(X, Y, color=\"yellowgreen\", marker=\".\",\n",
    "            label=\"Actual CPI\")\n",
    "\n",
    "plt.legend(loc=\"upper left\")\n",
    "plt.title(\"CPI (Consumer Price Index) prediction using \"\n",
    "          f\"{model.__class__.__name__} model\", fontweight=\"bold\")\n",
    "plt.gca().set(\n",
    "    xticks=[get_month_number(year, 1)\n",
    "            for year in df_pred.index.get_level_values('Year').unique()],\n",
    "    xticklabels=df_pred.index.get_level_values('Year').unique().tolist(),\n",
    "    xlabel='',\n",
    "    ylabel='CPI',\n",
    ")\n",
    "plt.show()\n",
    "plt.close(fig)"
   ]
  },
  {
   "cell_type": "markdown",
   "id": "fc726963-b91c-4d48-8da8-a44b6f8df4bc",
   "metadata": {},
   "source": [
    "## Build the solution\n",
    "\n",
    "Building here the solution for the interactive calculations, but instead of displaying it here it is sent back to the beggining of the notebook. [See the result in the beggining of this notebook](#GEL-%28₾%29-Time-Traveling-Machine) - that is where the solugion built below is displayed."
   ]
  },
  {
   "cell_type": "code",
   "execution_count": 27,
   "id": "7fdc3c02-3834-45b1-b8f2-d0b1e63a9b7d",
   "metadata": {
    "tags": []
   },
   "outputs": [],
   "source": [
    "##\n",
    "# Prepare actual and predicted CPI data for the interactive calculations:\n",
    "##\n",
    "CPI_data = {\n",
    "    y:{}\n",
    "    for y in df.index.get_level_values('Year').unique()}\n",
    "\n",
    "CPI_pred_data = {\n",
    "    y:{}\n",
    "    for y in df_pred.index.get_level_values('Year').unique()}\n",
    "\n",
    "for ym in df.index:\n",
    "    CPI_data[ym[0]][ym[1]] = df.loc[ym,'CPI']\n",
    "    \n",
    "for ym in df_pred.index:\n",
    "    CPI_pred_data[ym[0]][ym[1]] = df_pred.loc[ym,'CPI_pred']\n",
    "\n",
    "if VERBOSE:\n",
    "    print(\"CPI_data: \", json.dumps(CPI_data))\n",
    "    print(\"CPI_pred_data: \", json.dumps(CPI_pred_data))"
   ]
  },
  {
   "cell_type": "code",
   "execution_count": 28,
   "id": "9b0573a1-a602-48b4-9d99-4d25234e4d26",
   "metadata": {},
   "outputs": [],
   "source": [
    "MONTH_NUM_2_NAME = {\n",
    "    M: pd.Timestamp(year=BASE_YEAR, month=M, day=1).month_name()\n",
    "    for M in df.loc[BASE_YEAR].index}\n",
    "\n",
    "MONTH_NUM_2_NAME_KA = {\n",
    "    M: pd.Timestamp(year=BASE_YEAR, month=M, day=1).month_name(locale='ka_GE.UTF-8')\n",
    "    for M in df.loc[BASE_YEAR].index}\n",
    "\n",
    "if VERBOSE:\n",
    "    print(json.dumps(MONTH_NUM_2_NAME))\n",
    "    print(json.dumps(MONTH_NUM_2_NAME_KA))"
   ]
  },
  {
   "cell_type": "code",
   "execution_count": 29,
   "id": "4c32506c-f838-4dc6-a607-55ede55e8f65",
   "metadata": {
    "tags": []
   },
   "outputs": [],
   "source": [
    "##\n",
    "# Build the solution for the interactive calculations:\n",
    "##\n",
    "def get_raw_html(lang: str = \"en\"):\n",
    "    return (f\"\"\"\n",
    "<br>\n",
    "{\"If I will be time traveling\" if lang == \"en\" \n",
    "else \"თუ დროში ვიმოგზაურებ\" }<br>\n",
    "{\"from\"  if lang == \"en\" else \"საიდან:\"}\n",
    "<select id=\"from-month-{lang}\" name=\"travel-start-month\">\n",
    "{''.join([f'''<option value=\"{i}\">{MONTH_NUM_2_NAME[i] if lang == \"en\" \n",
    "                                 else MONTH_NUM_2_NAME_KA[i]}</option>'''\n",
    "          for i in range(1,13)])}\n",
    "</select>\n",
    "{\"of\"  if lang == \"en\" else \"\"} \n",
    "<select id=\"from-year-{lang}\" name=\"travel-start-year\">\n",
    "{' '.join([f'<option value=\"{Y}\">{Y}</option>'\n",
    "           for Y in df_pred.index.get_level_values('Year').unique()])}\n",
    "</select>\n",
    "{\"year\"  if lang == \"en\" else \"-დან\"} <br>\n",
    "{\"to\"  if lang == \"en\" else \"სად:\"}\n",
    "<select id=\"to-month-{lang}\" name=\"travel-end-month\">\n",
    "{''.join([f'''<option value=\"{i}\">{MONTH_NUM_2_NAME[i] if lang == \"en\"\n",
    "                                 else MONTH_NUM_2_NAME_KA[i]}</option>'''\n",
    "          for i in range(1,13)])}\n",
    "</select>\n",
    "{\"of\"  if lang == \"en\" else \"\"} \n",
    "<select id=\"to-year-{lang}\" name=\"travel-end-year\">\n",
    "{' '.join([f'<option value=\"{Y}\" '\n",
    "           f'{\"selected\" if Y == BASE_YEAR else \"\"}>{Y}</option>'\n",
    "           for Y in df_pred.index.get_level_values('Year').unique()])}\n",
    "</select>\n",
    "{\"year\"  if lang == \"en\" else \"-ში\"}<br>\n",
    "{\"and I got initially\"  if lang == \"en\" else \"და დასაწყისისთვის მაქვს\"}\n",
    "<input type=\"number\" id=\"money-before-{lang}\" name=\"travel-start-money\"\n",
    "       min=\"1\" value=\"100\">\n",
    "GEL {\"in my pocket,\"  if lang == \"en\" else \"ჩემს ჯიბეში,\"}<br>\n",
    "{\"then I will have\"  if lang == \"en\" else \"მაშინ მე მექნება\"}\n",
    "<u><span id=\"result-certitude-{lang}\"></span>\n",
    "<strong id=\"money-after-{lang}\">#.##</strong> GEL</u>\n",
    "{\"in the pocket when I reach the destination.\"  if lang == \"en\"\n",
    "else \"ჯიბეში როცა ჩავალ დანიშნულების ადგილას.\"}\n",
    "<br><br>\n",
    "<div>{\"Explanation of the above result:\"  if lang == \"en\" \n",
    "else \"ზემოთ მიღებული შედეგის განმარტება:\"}</div>\n",
    "<div id=\"result-explanation-title-{lang}\"\n",
    "     style=\"font-size: larger; margin-top:3px;margin-bottom:3px;\"></div>\n",
    "<div id=\"result-explanation-body-{lang}\" \n",
    "     style=\"max-width:32em; font-size:small;\"></div>\n",
    "\n",
    "\"\"\")\n",
    "\n",
    "\n",
    "def get_raw_js(lang=\"en\"):\n",
    "    return (f\"\"\"\n",
    "//<script type=\"application/javascript\">\n",
    "var CPI_data = {json.dumps(CPI_data)};\n",
    "var CPI_pred_data = {json.dumps(CPI_pred_data)};\n",
    "var MONTH_NUM_2_NAME = {json.dumps(MONTH_NUM_2_NAME) if lang == \"en\"\n",
    "                        else json.dumps(MONTH_NUM_2_NAME_KA)};\n",
    "var MODEL_NAME = \"{model.__class__.__name__}\";\n",
    "\"\"\"\"\"\"\n",
    "((fn)=>{\n",
    "  if (document.readyState != 'loading'){\n",
    "    fn();\n",
    "} else {\n",
    "    document.addEventListener('DOMContentLoaded', fn);\n",
    "}\n",
    "})(()=>{\n",
    "\"\"\"f\"\"\"\n",
    "//console.log(\"Time Traveling Machine is READY!!!\");\n",
    "let inFromMonth = document.getElementById(\"from-month-{lang}\");\n",
    "let inFromYear = document.getElementById(\"from-year-{lang}\");\n",
    "let inToMonth = document.getElementById(\"to-month-{lang}\");\n",
    "let inToYear = document.getElementById(\"to-year-{lang}\");\n",
    "let inMoneyBefore = document.getElementById(\"money-before-{lang}\");\n",
    "\n",
    "let outResultCertitude = document.getElementById(\"result-certitude-{lang}\");\n",
    "let outMoneyAfter = document.getElementById(\"money-after-{lang}\");\n",
    "let outExplanationTitle = document.getElementById(\n",
    "    \"result-explanation-title-{lang}\"\n",
    ");\n",
    "let outExplanationBody = document.getElementById(\n",
    "    \"result-explanation-body-{lang}\"\n",
    ");\n",
    "\"\"\"\"\"\"\n",
    "\n",
    "let isRecordInData = (year, month, data) => {\n",
    "    return data.hasOwnProperty(year) && data[year].hasOwnProperty(month);\n",
    "}\n",
    "let getCPI = (year, month, data) => data[year][month];\n",
    "\n",
    "let doTimeTravel = (startYear, startMonth, endYear, endMonth, moneyBefore) => {\n",
    "    moneyBefore = parseFloat(moneyBefore);\n",
    "    let isDataAvailable = isRecordInData(startYear, startMonth, CPI_data) &&\n",
    "                          isRecordInData(endYear, endMonth, CPI_data);\n",
    "                          \n",
    "    if (isDataAvailable) {\n",
    "\"\"\"f\"\"\"\n",
    "        outResultCertitude.innerText = \"{\"exactly\"  if lang == \"en\"\n",
    "else \"ზუსტად\"}\";\n",
    "        var data = CPI_data;\n",
    "        var toBeWorthText = \"{\"is worth\"  if lang == \"en\"\n",
    "else \"არის ღირებული როგორც\"}\";\n",
    "    }} else {{\n",
    "        outResultCertitude.innerText = \"{\"approximately\"  if lang == \"en\"\n",
    "else \"მიახლოებით\"}\";\n",
    "        var data = CPI_pred_data;\n",
    "        var toBeWorthText = \"{\"is estimated to be worth\"  if lang == \"en\"\n",
    "else \"სავარაუდოა იყოს ღირებული როგორც\"}\";\n",
    "    }}\n",
    "    let startCPI = getCPI(startYear, startMonth, data);\n",
    "    let endCPI = getCPI(endYear, endMonth, data);\n",
    "    let moneyAfter = startCPI * (moneyBefore/endCPI);\n",
    "    moneyAfter = moneyAfter.toFixed(2);\n",
    "    moneyBefore = moneyBefore.toFixed(2);\n",
    "    outMoneyAfter.innerText = moneyAfter;\n",
    "    \n",
    "    outExplanationTitle.innerText = [\n",
    "            moneyBefore + \"₾ {\"in\"  if lang == \"en\" else \"\"}\", \n",
    "            MONTH_NUM_2_NAME[endMonth],\n",
    "            endYear + \"{\"\"  if lang == \"en\" else \"-ში\"}\",\n",
    "            toBeWorthText,\n",
    "            moneyAfter + \"₾ {\"in\"  if lang == \"en\" else \"\"}\",\n",
    "            MONTH_NUM_2_NAME[startMonth],\n",
    "            startYear + \"{\"\"  if lang == \"en\" else \"-ში\"}\",\n",
    "        ].join(\" \");\n",
    "\n",
    "    if (isDataAvailable) {{\n",
    "        outExplanationBody.innerHTML = (\n",
    "        \" {\"Selected dates\"  if lang == \"en\" else \"შერჩეული თარიღებიდან\"} (\"\n",
    "        + MONTH_NUM_2_NAME[startMonth]\n",
    "        + \" \"\n",
    "        + startYear\n",
    "        + \" {\"and\"  if lang == \"en\" else \"და\"} \"\n",
    "        + MONTH_NUM_2_NAME[endMonth]\n",
    "        + \" \" \n",
    "        + endYear\n",
    "        + \")\"\n",
    "        + \" {\"are both present in the actual CPI data from Geostat,\"  \n",
    "if lang == \"en\" else \"ორივე მოცემულია საქსტატის სფი მონაცემებში,\"}\"\n",
    "        + \" {\"thus the result is directly calculated from the data.\"  \n",
    "if lang == \"en\" else\n",
    "\"შესაბამისად ეს შედეგი პირდაპირ გამოთვლილია მონაცემებზე დაყრდნობით.\"}\"\n",
    "        );\n",
    "    }} else {{\n",
    "        outExplanationBody.innerHTML = (\n",
    "        \" {\"One (or both) of the selected dates\"\n",
    "if lang == \"en\" else \"შერჩეული თარიღებიდან\"} (\"\n",
    "        + MONTH_NUM_2_NAME[startMonth]\n",
    "        + \" \"\n",
    "        + startYear\n",
    "        + \" {\"and\"  if lang == \"en\" else \"და\"} \"\n",
    "        + MONTH_NUM_2_NAME[endMonth]\n",
    "        + \" \" \n",
    "        + endYear\n",
    "        + \")\"\n",
    "        + \" {\"is not present in the CPI data from Geostat,\"  \n",
    "if lang == \"en\" else\n",
    "\" ერთ-ერთი (ან ორივე) არ არის მოცემული საქსტატის სფი მონაცემებში,\"}\"\n",
    "        + \" {\"thus the result is obtained using the \"  \n",
    "if lang == \"en\" else\n",
    "\"შესაბამისად ეს შედეგი მიღებულია \"}\"\n",
    "        + MODEL_NAME\n",
    "        + \" {\"model.\"  if lang == \"en\" else \"მოდელის გამოყენებით.\"}\"\n",
    "        );\n",
    "\"\"\"\"\"\"\n",
    "    }\n",
    "};\n",
    "\n",
    "let inputHandler = (e) => {\n",
    "    doTimeTravel(inFromYear.value, inFromMonth.value,\n",
    "                  inToYear.value, inToMonth.value, inMoneyBefore.value);\n",
    "                  \n",
    "};\n",
    "\n",
    "for (let el of [inFromYear, inFromMonth, inToYear, inToMonth, inMoneyBefore]){\n",
    "    el.addEventListener('input', inputHandler);\n",
    "}\n",
    "\n",
    "\n",
    "let event = document.createEvent('HTMLEvents');\n",
    "event.initEvent('input', true, false);\n",
    "inMoneyBefore.dispatchEvent(event);\n",
    "\n",
    "});\n",
    "//</script>\n",
    "\"\"\")\n",
    "\n",
    "\n",
    "with open(\"GEL_TTM_ka.html\", \"w\") as f:\n",
    "    f.write(get_raw_html(lang=\"ka\"))\n",
    "    \n",
    "with open(\"GEL_TTM_ka.js\", \"w\") as f:\n",
    "    f.write(get_raw_js(lang=\"ka\"))\n",
    "\n",
    "\n",
    "raw_html = get_raw_html()\n",
    "raw_js = get_raw_js()\n",
    "\n",
    "if VERBOSE:\n",
    "    print(raw_html)\n",
    "    print(raw_js)"
   ]
  },
  {
   "cell_type": "code",
   "execution_count": 30,
   "id": "bbdac472-cf20-462a-92b2-c048c7a32405",
   "metadata": {},
   "outputs": [
    {
     "data": {
      "text/html": [
       "<script type=\"application/javascript\">\n",
       "((fn)=>{\n",
       "  if (document.readyState != 'loading'){\n",
       "    fn();\n",
       "} else {\n",
       "    document.addEventListener('DOMContentLoaded', fn);\n",
       "}\n",
       "})(()=>{\n",
       "let ttm_container = document.getElementById(\"time-traveling-machine-container\");\n",
       "\n",
       "ttm_container.insertAdjacentHTML(\"afterbegin\", `\n",
       "<br>\n",
       "If I will be time traveling<br>\n",
       "from\n",
       "<select id=\"from-month-en\" name=\"travel-start-month\">\n",
       "<option value=\"1\">January</option><option value=\"2\">February</option><option value=\"3\">March</option><option value=\"4\">April</option><option value=\"5\">May</option><option value=\"6\">June</option><option value=\"7\">July</option><option value=\"8\">August</option><option value=\"9\">September</option><option value=\"10\">October</option><option value=\"11\">November</option><option value=\"12\">December</option>\n",
       "</select>\n",
       "of \n",
       "<select id=\"from-year-en\" name=\"travel-start-year\">\n",
       "<option value=\"2000\">2000</option> <option value=\"2001\">2001</option> <option value=\"2002\">2002</option> <option value=\"2003\">2003</option> <option value=\"2004\">2004</option> <option value=\"2005\">2005</option> <option value=\"2006\">2006</option> <option value=\"2007\">2007</option> <option value=\"2008\">2008</option> <option value=\"2009\">2009</option> <option value=\"2010\">2010</option> <option value=\"2011\">2011</option> <option value=\"2012\">2012</option> <option value=\"2013\">2013</option> <option value=\"2014\">2014</option> <option value=\"2015\">2015</option> <option value=\"2016\">2016</option> <option value=\"2017\">2017</option> <option value=\"2018\">2018</option> <option value=\"2019\">2019</option> <option value=\"2020\">2020</option> <option value=\"2021\">2021</option> <option value=\"2022\">2022</option> <option value=\"2023\">2023</option> <option value=\"2024\">2024</option> <option value=\"2025\">2025</option> <option value=\"2026\">2026</option> <option value=\"2027\">2027</option> <option value=\"2028\">2028</option> <option value=\"2029\">2029</option> <option value=\"2030\">2030</option> <option value=\"2031\">2031</option> <option value=\"2032\">2032</option>\n",
       "</select>\n",
       "year <br>\n",
       "to\n",
       "<select id=\"to-month-en\" name=\"travel-end-month\">\n",
       "<option value=\"1\">January</option><option value=\"2\">February</option><option value=\"3\">March</option><option value=\"4\">April</option><option value=\"5\">May</option><option value=\"6\">June</option><option value=\"7\">July</option><option value=\"8\">August</option><option value=\"9\">September</option><option value=\"10\">October</option><option value=\"11\">November</option><option value=\"12\">December</option>\n",
       "</select>\n",
       "of \n",
       "<select id=\"to-year-en\" name=\"travel-end-year\">\n",
       "<option value=\"2000\" >2000</option> <option value=\"2001\" >2001</option> <option value=\"2002\" >2002</option> <option value=\"2003\" >2003</option> <option value=\"2004\" >2004</option> <option value=\"2005\" >2005</option> <option value=\"2006\" >2006</option> <option value=\"2007\" >2007</option> <option value=\"2008\" >2008</option> <option value=\"2009\" >2009</option> <option value=\"2010\" selected>2010</option> <option value=\"2011\" >2011</option> <option value=\"2012\" >2012</option> <option value=\"2013\" >2013</option> <option value=\"2014\" >2014</option> <option value=\"2015\" >2015</option> <option value=\"2016\" >2016</option> <option value=\"2017\" >2017</option> <option value=\"2018\" >2018</option> <option value=\"2019\" >2019</option> <option value=\"2020\" >2020</option> <option value=\"2021\" >2021</option> <option value=\"2022\" >2022</option> <option value=\"2023\" >2023</option> <option value=\"2024\" >2024</option> <option value=\"2025\" >2025</option> <option value=\"2026\" >2026</option> <option value=\"2027\" >2027</option> <option value=\"2028\" >2028</option> <option value=\"2029\" >2029</option> <option value=\"2030\" >2030</option> <option value=\"2031\" >2031</option> <option value=\"2032\" >2032</option>\n",
       "</select>\n",
       "year<br>\n",
       "and I got initially\n",
       "<input type=\"number\" id=\"money-before-en\" name=\"travel-start-money\"\n",
       "       min=\"1\" value=\"100\">\n",
       "GEL in my pocket,<br>\n",
       "then I will have\n",
       "<u><span id=\"result-certitude-en\"></span>\n",
       "<strong id=\"money-after-en\">#.##</strong> GEL</u>\n",
       "in the pocket when I reach the destination.\n",
       "<br><br>\n",
       "<div>Explanation of the above result:</div>\n",
       "<div id=\"result-explanation-title-en\"\n",
       "     style=\"font-size: larger; margin-top:3px;margin-bottom:3px;\"></div>\n",
       "<div id=\"result-explanation-body-en\" \n",
       "     style=\"max-width:32em; font-size:small;\"></div>\n",
       "\n",
       "`);\n",
       "let script = document.createElement('script');\n",
       "script.type=\"application/javascript\";\n",
       "script.textContent = `\n",
       "//<script type=\"application/javascript\">\n",
       "var CPI_data = {\"2000\": {\"1\": 52.4448, \"2\": 52.3174, \"3\": 52.2566, \"4\": 52.1297, \"5\": 52.0824, \"6\": 51.9398, \"7\": 51.8027, \"8\": 52.4443, \"9\": 53.3903, \"10\": 54.0256, \"11\": 54.3467, \"12\": 54.6401}, \"2001\": {\"1\": 55.0301, \"2\": 55.3489, \"3\": 55.3585, \"4\": 55.8985, \"5\": 55.3437, \"6\": 55.1431, \"7\": 54.7569, \"8\": 54.8971, \"9\": 54.5901, \"10\": 54.9518, \"11\": 55.7138, \"12\": 56.4994}, \"2002\": {\"1\": 57.6338, \"2\": 58.3052, \"3\": 58.5229, \"4\": 59.5585, \"5\": 59.5775, \"6\": 58.1895, \"7\": 57.5515, \"8\": 57.47, \"9\": 57.6891, \"10\": 57.9381, \"11\": 58.5536, \"12\": 59.5632}, \"2003\": {\"1\": 60.8079, \"2\": 60.4916, \"3\": 60.5162, \"4\": 60.8174, \"5\": 60.9521, \"6\": 60.9896, \"7\": 60.4475, \"8\": 60.3728, \"9\": 60.6909, \"10\": 60.6834, \"11\": 63.602, \"12\": 63.7045}, \"2004\": {\"1\": 63.9688, \"2\": 64.2487, \"3\": 64.3127, \"4\": 64.1967, \"5\": 64.2226, \"6\": 63.2079, \"7\": 63.7438, \"8\": 63.3875, \"9\": 64.3362, \"10\": 65.3669, \"11\": 66.1348, \"12\": 68.4716}, \"2005\": {\"1\": 69.9027, \"2\": 70.1278, \"3\": 70.5387, \"4\": 70.835, \"5\": 69.9202, \"6\": 68.9154, \"7\": 67.5772, \"8\": 67.9525, \"9\": 69.2698, \"10\": 70.4347, \"11\": 71.3858, \"12\": 72.7024}, \"2006\": {\"1\": 73.5707, \"2\": 73.704, \"3\": 73.7693, \"4\": 75.0938, \"5\": 76.9121, \"6\": 76.7837, \"7\": 77.3889, \"8\": 77.0631, \"9\": 77.0555, \"10\": 77.6393, \"11\": 78.4096, \"12\": 79.0842}, \"2007\": {\"1\": 81.2499, \"2\": 81.8389, \"3\": 80.9598, \"4\": 81.1928, \"5\": 82.5124, \"6\": 82.3607, \"7\": 82.4761, \"8\": 82.9959, \"9\": 83.9665, \"10\": 86.3486, \"11\": 87.5362, \"12\": 87.7635}, \"2008\": {\"1\": 89.9495, \"2\": 90.7748, \"3\": 90.8777, \"4\": 91.1181, \"5\": 91.7829, \"6\": 91.6976, \"7\": 90.5616, \"8\": 93.6182, \"9\": 92.8713, \"10\": 92.4105, \"11\": 93.0217, \"12\": 92.6324}, \"2009\": {\"1\": 93.944, \"2\": 92.676, \"3\": 92.3063, \"4\": 92.7446, \"5\": 93.8412, \"6\": 93.8497, \"7\": 90.6895, \"8\": 90.7104, \"9\": 93.2801, \"10\": 95.3706, \"11\": 95.5307, \"12\": 95.3986}, \"2010\": {\"1\": 96.4744, \"2\": 97.8969, \"3\": 97.7135, \"4\": 97.9481, \"5\": 97.5996, \"6\": 97.3108, \"7\": 97.0801, \"8\": 99.3375, \"9\": 102.415, \"10\": 104.5021, \"11\": 105.6006, \"12\": 106.1214}, \"2011\": {\"1\": 108.3008, \"2\": 111.3533, \"3\": 111.3291, \"4\": 111.1703, \"5\": 111.5872, \"6\": 107.0748, \"7\": 105.3309, \"8\": 106.4445, \"9\": 107.087, \"10\": 106.9247, \"11\": 107.6251, \"12\": 108.2875}, \"2012\": {\"1\": 108.819, \"2\": 109.0656, \"3\": 108.8677, \"4\": 108.8302, \"5\": 107.9044, \"6\": 106.882, \"7\": 105.9259, \"8\": 106.0622, \"9\": 106.9575, \"10\": 107.0084, \"11\": 107.1007, \"12\": 106.8003}, \"2013\": {\"1\": 107.0779, \"2\": 106.7566, \"3\": 106.6148, \"4\": 107.004, \"5\": 107.7835, \"6\": 107.1401, \"7\": 105.7009, \"8\": 105.688, \"9\": 105.5733, \"10\": 107.1933, \"11\": 107.751, \"12\": 109.3338}, \"2014\": {\"1\": 110.2043, \"2\": 110.4513, \"3\": 110.3376, \"4\": 110.6733, \"5\": 110.3755, \"6\": 109.3276, \"7\": 108.7133, \"8\": 109.2566, \"9\": 110.59, \"10\": 110.8822, \"11\": 110.7297, \"12\": 111.4676}, \"2015\": {\"1\": 111.7403, \"2\": 111.8569, \"3\": 113.1635, \"4\": 113.4584, \"5\": 114.1939, \"6\": 114.2188, \"7\": 113.9908, \"8\": 115.1259, \"9\": 116.3593, \"10\": 117.3078, \"11\": 117.6545, \"12\": 116.9066}, \"2016\": {\"1\": 117.965, \"2\": 118.0924, \"3\": 117.7596, \"4\": 117.0422, \"5\": 116.5609, \"6\": 115.5229, \"7\": 115.7151, \"8\": 116.187, \"9\": 116.4941, \"10\": 117.1298, \"11\": 117.8355, \"12\": 119.0483}, \"2017\": {\"1\": 122.5371, \"2\": 124.6311, \"3\": 124.0624, \"4\": 124.1989, \"5\": 124.2024, \"6\": 123.7183, \"7\": 122.6044, \"8\": 122.8492, \"9\": 123.679, \"10\": 124.6414, \"11\": 126.0021, \"12\": 127.044}, \"2018\": {\"1\": 127.8324, \"2\": 128.0487, \"3\": 127.5694, \"4\": 127.298, \"5\": 127.2579, \"6\": 126.4389, \"7\": 126.0841, \"8\": 126.7121, \"9\": 127.0728, \"10\": 127.4793, \"11\": 128.3795, \"12\": 128.9688}, \"2019\": {\"1\": 130.6302, \"2\": 130.9881, \"3\": 132.2952, \"4\": 132.5658, \"5\": 133.242, \"6\": 131.9349, \"7\": 131.9038, \"8\": 132.9447, \"9\": 135.1977, \"10\": 136.2376, \"11\": 137.4172, \"12\": 137.9924}, \"2020\": {\"1\": 138.9685, \"2\": 139.43, \"3\": 140.339, \"4\": 141.6638, \"5\": 141.9516, \"6\": 140.0229, \"7\": 139.3583, \"8\": 139.3248, \"9\": 140.2941, \"10\": 141.4229, \"11\": 142.6767, \"12\": 141.3107}, \"2021\": {\"1\": 142.903, \"2\": 144.4187, \"3\": 150.4663, \"4\": 151.871, \"5\": 152.8648, \"6\": 153.8774, \"7\": 155.9535, \"8\": 157.1157, \"9\": 157.4984, \"10\": 159.5886, \"11\": 160.5684, \"12\": 161.0087}, \"2022\": {\"1\": 162.828, \"2\": 164.2517, \"3\": 168.2852, \"4\": 171.3781, \"5\": 173.1846}};\n",
       "var CPI_pred_data = {\"2000\": {\"1\": 48.298879226155265, \"2\": 48.67635992485984, \"3\": 49.05384062356441, \"4\": 49.431321322268985, \"5\": 49.80880202097356, \"6\": 50.18628271967813, \"7\": 50.563763418382706, \"8\": 50.94124411708728, \"9\": 51.31872481579185, \"10\": 51.69620551449643, \"11\": 52.073686213201, \"12\": 52.451166911905574}, \"2001\": {\"1\": 52.82864761061015, \"2\": 53.20612830931472, \"3\": 53.583609008019295, \"4\": 53.96108970672387, \"5\": 54.33857040542844, \"6\": 54.716051104133015, \"7\": 55.09353180283759, \"8\": 55.47101250154216, \"9\": 55.848493200246736, \"10\": 56.22597389895131, \"11\": 56.60345459765588, \"12\": 56.98093529636046}, \"2002\": {\"1\": 57.35841599506503, \"2\": 57.735896693769604, \"3\": 58.11337739247418, \"4\": 58.49085809117875, \"5\": 58.868338789883325, \"6\": 59.2458194885879, \"7\": 59.62330018729247, \"8\": 60.000780885997045, \"9\": 60.37826158470162, \"10\": 60.75574228340619, \"11\": 61.133222982110766, \"12\": 61.51070368081534}, \"2003\": {\"1\": 61.88818437951991, \"2\": 62.26566507822449, \"3\": 62.64314577692906, \"4\": 63.020626475633634, \"5\": 63.39810717433821, \"6\": 63.77558787304279, \"7\": 64.15306857174735, \"8\": 64.53054927045193, \"9\": 64.9080299691565, \"10\": 65.28551066786108, \"11\": 65.66299136656565, \"12\": 66.04047206527022}, \"2004\": {\"1\": 66.4179527639748, \"2\": 66.79543346267937, \"3\": 67.17291416138394, \"4\": 67.55039486008852, \"5\": 67.92787555879309, \"6\": 68.30535625749766, \"7\": 68.68283695620224, \"8\": 69.06031765490681, \"9\": 69.43779835361138, \"10\": 69.81527905231596, \"11\": 70.19275975102053, \"12\": 70.5702404497251}, \"2005\": {\"1\": 70.94772114842968, \"2\": 71.32520184713425, \"3\": 71.70268254583883, \"4\": 72.0801632445434, \"5\": 72.45764394324797, \"6\": 72.83512464195255, \"7\": 73.21260534065712, \"8\": 73.5900860393617, \"9\": 73.96756673806627, \"10\": 74.34504743677084, \"11\": 74.72252813547541, \"12\": 75.10000883417999}, \"2006\": {\"1\": 75.47748953288456, \"2\": 75.85497023158914, \"3\": 76.23245093029371, \"4\": 76.60993162899828, \"5\": 76.98741232770286, \"6\": 77.36489302640743, \"7\": 77.742373725112, \"8\": 78.11985442381658, \"9\": 78.49733512252115, \"10\": 78.87481582122574, \"11\": 79.25229651993031, \"12\": 79.62977721863489}, \"2007\": {\"1\": 80.00725791733946, \"2\": 80.38473861604402, \"3\": 80.76221931474859, \"4\": 81.13970001345317, \"5\": 81.51718071215774, \"6\": 81.89466141086231, \"7\": 82.27214210956689, \"8\": 82.64962280827146, \"9\": 83.02710350697603, \"10\": 83.4045842056806, \"11\": 83.78206490438518, \"12\": 84.15954560308975}, \"2008\": {\"1\": 84.53702630179434, \"2\": 84.91450700049892, \"3\": 85.29198769920349, \"4\": 85.66946839790806, \"5\": 86.04694909661264, \"6\": 86.42442979531721, \"7\": 86.80191049402178, \"8\": 87.17939119272636, \"9\": 87.55687189143093, \"10\": 87.9343525901355, \"11\": 88.31183328884008, \"12\": 88.68931398754465}, \"2009\": {\"1\": 89.06679468624922, \"2\": 89.4442753849538, \"3\": 89.82175608365837, \"4\": 90.19923678236295, \"5\": 90.57671748106752, \"6\": 90.95419817977209, \"7\": 91.33167887847667, \"8\": 91.70915957718124, \"9\": 92.08664027588581, \"10\": 92.46412097459039, \"11\": 92.84160167329496, \"12\": 93.21908237199953}, \"2010\": {\"1\": 93.59656307070411, \"2\": 93.97404376940868, \"3\": 94.35152446811325, \"4\": 94.72900516681783, \"5\": 95.1064858655224, \"6\": 95.48396656422698, \"7\": 95.86144726293155, \"8\": 96.23892796163612, \"9\": 96.6164086603407, \"10\": 96.99388935904527, \"11\": 97.37137005774984, \"12\": 97.74885075645442}, \"2011\": {\"1\": 98.12633145515899, \"2\": 98.50381215386356, \"3\": 98.88129285256814, \"4\": 99.25877355127271, \"5\": 99.63625424997728, \"6\": 100.01373494868186, \"7\": 100.39121564738643, \"8\": 100.768696346091, \"9\": 101.14617704479558, \"10\": 101.52365774350015, \"11\": 101.90113844220473, \"12\": 102.2786191409093}, \"2012\": {\"1\": 102.65609983961387, \"2\": 103.03358053831845, \"3\": 103.41106123702302, \"4\": 103.7885419357276, \"5\": 104.16602263443217, \"6\": 104.54350333313674, \"7\": 104.92098403184131, \"8\": 105.29846473054589, \"9\": 105.67594542925046, \"10\": 106.05342612795503, \"11\": 106.43090682665961, \"12\": 106.80838752536418}, \"2013\": {\"1\": 107.18586822406876, \"2\": 107.56334892277333, \"3\": 107.9408296214779, \"4\": 108.31831032018248, \"5\": 108.69579101888705, \"6\": 109.07327171759164, \"7\": 109.45075241629621, \"8\": 109.82823311500078, \"9\": 110.20571381370536, \"10\": 110.58319451240993, \"11\": 110.9606752111145, \"12\": 111.33815590981908}, \"2014\": {\"1\": 111.71563660852365, \"2\": 112.09311730722823, \"3\": 112.47059800593279, \"4\": 112.84807870463736, \"5\": 113.22555940334193, \"6\": 113.6030401020465, \"7\": 113.98052080075108, \"8\": 114.35800149945565, \"9\": 114.73548219816023, \"10\": 115.1129628968648, \"11\": 115.49044359556937, \"12\": 115.86792429427395}, \"2015\": {\"1\": 116.24540499297852, \"2\": 116.6228856916831, \"3\": 117.00036639038767, \"4\": 117.37784708909224, \"5\": 117.75532778779682, \"6\": 118.13280848650139, \"7\": 118.51028918520596, \"8\": 118.88776988391054, \"9\": 119.26525058261511, \"10\": 119.64273128131968, \"11\": 120.02021198002426, \"12\": 120.39769267872883}, \"2016\": {\"1\": 120.77517337743342, \"2\": 121.15265407613799, \"3\": 121.53013477484257, \"4\": 121.90761547354714, \"5\": 122.28509617225171, \"6\": 122.66257687095629, \"7\": 123.04005756966086, \"8\": 123.41753826836543, \"9\": 123.79501896707, \"10\": 124.17249966577458, \"11\": 124.54998036447915, \"12\": 124.92746106318373}, \"2017\": {\"1\": 125.3049417618883, \"2\": 125.68242246059287, \"3\": 126.05990315929745, \"4\": 126.43738385800202, \"5\": 126.8148645567066, \"6\": 127.19234525541117, \"7\": 127.56982595411574, \"8\": 127.94730665282032, \"9\": 128.3247873515249, \"10\": 128.70226805022946, \"11\": 129.07974874893404, \"12\": 129.4572294476386}, \"2018\": {\"1\": 129.83471014634318, \"2\": 130.21219084504776, \"3\": 130.58967154375233, \"4\": 130.9671522424569, \"5\": 131.34463294116148, \"6\": 131.72211363986605, \"7\": 132.09959433857063, \"8\": 132.4770750372752, \"9\": 132.85455573597977, \"10\": 133.23203643468435, \"11\": 133.60951713338892, \"12\": 133.9869978320935}, \"2019\": {\"1\": 134.36447853079807, \"2\": 134.74195922950264, \"3\": 135.1194399282072, \"4\": 135.4969206269118, \"5\": 135.87440132561636, \"6\": 136.25188202432093, \"7\": 136.6293627230255, \"8\": 137.00684342173008, \"9\": 137.38432412043466, \"10\": 137.76180481913923, \"11\": 138.1392855178438, \"12\": 138.51676621654838}, \"2020\": {\"1\": 138.89424691525295, \"2\": 139.27172761395752, \"3\": 139.6492083126621, \"4\": 140.02668901136667, \"5\": 140.40416971007124, \"6\": 140.78165040877582, \"7\": 141.1591311074804, \"8\": 141.53661180618496, \"9\": 141.91409250488954, \"10\": 142.2915732035941, \"11\": 142.66905390229869, \"12\": 143.04653460100326}, \"2021\": {\"1\": 143.42401529970783, \"2\": 143.8014959984124, \"3\": 144.17897669711698, \"4\": 144.55645739582155, \"5\": 144.93393809452613, \"6\": 145.3114187932307, \"7\": 145.68889949193527, \"8\": 146.06638019063985, \"9\": 146.44386088934442, \"10\": 146.821341588049, \"11\": 147.19882228675357, \"12\": 147.57630298545814}, \"2022\": {\"1\": 147.95378368416272, \"2\": 148.3312643828673, \"3\": 148.70874508157186, \"4\": 149.08622578027644, \"5\": 149.463706478981, \"6\": 149.84118717768558, \"7\": 150.21866787639016, \"8\": 150.59614857509473, \"9\": 150.9736292737993, \"10\": 151.35110997250388, \"11\": 151.72859067120845, \"12\": 152.10607136991302}, \"2023\": {\"1\": 152.4835520686176, \"2\": 152.86103276732217, \"3\": 153.23851346602675, \"4\": 153.61599416473132, \"5\": 153.9934748634359, \"6\": 154.37095556214047, \"7\": 154.74843626084504, \"8\": 155.1259169595496, \"9\": 155.5033976582542, \"10\": 155.88087835695876, \"11\": 156.25835905566333, \"12\": 156.6358397543679}, \"2024\": {\"1\": 157.01332045307248, \"2\": 157.39080115177705, \"3\": 157.76828185048163, \"4\": 158.1457625491862, \"5\": 158.52324324789078, \"6\": 158.90072394659535, \"7\": 159.27820464529992, \"8\": 159.6556853440045, \"9\": 160.03316604270907, \"10\": 160.41064674141364, \"11\": 160.78812744011822, \"12\": 161.1656081388228}, \"2025\": {\"1\": 161.54308883752736, \"2\": 161.92056953623194, \"3\": 162.2980502349365, \"4\": 162.67553093364108, \"5\": 163.05301163234566, \"6\": 163.43049233105023, \"7\": 163.8079730297548, \"8\": 164.18545372845938, \"9\": 164.56293442716395, \"10\": 164.94041512586853, \"11\": 165.3178958245731, \"12\": 165.69537652327767}, \"2026\": {\"1\": 166.07285722198225, \"2\": 166.45033792068682, \"3\": 166.8278186193914, \"4\": 167.20529931809597, \"5\": 167.58278001680054, \"6\": 167.96026071550511, \"7\": 168.3377414142097, \"8\": 168.71522211291426, \"9\": 169.09270281161884, \"10\": 169.4701835103234, \"11\": 169.84766420902798, \"12\": 170.22514490773256}, \"2027\": {\"1\": 170.60262560643713, \"2\": 170.9801063051417, \"3\": 171.35758700384628, \"4\": 171.73506770255085, \"5\": 172.11254840125542, \"6\": 172.49002909996, \"7\": 172.86750979866457, \"8\": 173.24499049736914, \"9\": 173.62247119607372, \"10\": 173.9999518947783, \"11\": 174.37743259348287, \"12\": 174.75491329218744}, \"2028\": {\"1\": 175.132393990892, \"2\": 175.5098746895966, \"3\": 175.88735538830116, \"4\": 176.26483608700573, \"5\": 176.6423167857103, \"6\": 177.01979748441488, \"7\": 177.39727818311945, \"8\": 177.77475888182403, \"9\": 178.1522395805286, \"10\": 178.52972027923317, \"11\": 178.90720097793775, \"12\": 179.28468167664232}, \"2029\": {\"1\": 179.6621623753469, \"2\": 180.03964307405147, \"3\": 180.41712377275604, \"4\": 180.79460447146062, \"5\": 181.1720851701652, \"6\": 181.54956586886976, \"7\": 181.92704656757434, \"8\": 182.3045272662789, \"9\": 182.68200796498348, \"10\": 183.05948866368806, \"11\": 183.43696936239263, \"12\": 183.8144500610972}, \"2030\": {\"1\": 184.19193075980178, \"2\": 184.56941145850635, \"3\": 184.94689215721093, \"4\": 185.3243728559155, \"5\": 185.70185355462007, \"6\": 186.07933425332465, \"7\": 186.45681495202922, \"8\": 186.8342956507338, \"9\": 187.21177634943837, \"10\": 187.58925704814294, \"11\": 187.9667377468475, \"12\": 188.3442184455521}, \"2031\": {\"1\": 188.72169914425666, \"2\": 189.09917984296123, \"3\": 189.4766605416658, \"4\": 189.85414124037038, \"5\": 190.23162193907496, \"6\": 190.60910263777953, \"7\": 190.9865833364841, \"8\": 191.36406403518868, \"9\": 191.74154473389325, \"10\": 192.11902543259782, \"11\": 192.4965061313024, \"12\": 192.87398683000697}, \"2032\": {\"1\": 193.25146752871157, \"2\": 193.62894822741615, \"3\": 194.00642892612072, \"4\": 194.3839096248253, \"5\": 194.76139032352987, \"6\": 195.13887102223444, \"7\": 195.516351720939, \"8\": 195.8938324196436, \"9\": 196.27131311834816, \"10\": 196.64879381705273, \"11\": 197.0262745157573, \"12\": 197.40375521446188}};\n",
       "var MONTH_NUM_2_NAME = {\"1\": \"January\", \"2\": \"February\", \"3\": \"March\", \"4\": \"April\", \"5\": \"May\", \"6\": \"June\", \"7\": \"July\", \"8\": \"August\", \"9\": \"September\", \"10\": \"October\", \"11\": \"November\", \"12\": \"December\"};\n",
       "var MODEL_NAME = \"RANSACRegressor\";\n",
       "\n",
       "((fn)=>{\n",
       "  if (document.readyState != 'loading'){\n",
       "    fn();\n",
       "} else {\n",
       "    document.addEventListener('DOMContentLoaded', fn);\n",
       "}\n",
       "})(()=>{\n",
       "\n",
       "//console.log(\"Time Traveling Machine is READY!!!\");\n",
       "let inFromMonth = document.getElementById(\"from-month-en\");\n",
       "let inFromYear = document.getElementById(\"from-year-en\");\n",
       "let inToMonth = document.getElementById(\"to-month-en\");\n",
       "let inToYear = document.getElementById(\"to-year-en\");\n",
       "let inMoneyBefore = document.getElementById(\"money-before-en\");\n",
       "\n",
       "let outResultCertitude = document.getElementById(\"result-certitude-en\");\n",
       "let outMoneyAfter = document.getElementById(\"money-after-en\");\n",
       "let outExplanationTitle = document.getElementById(\n",
       "    \"result-explanation-title-en\"\n",
       ");\n",
       "let outExplanationBody = document.getElementById(\n",
       "    \"result-explanation-body-en\"\n",
       ");\n",
       "\n",
       "\n",
       "let isRecordInData = (year, month, data) => {\n",
       "    return data.hasOwnProperty(year) && data[year].hasOwnProperty(month);\n",
       "}\n",
       "let getCPI = (year, month, data) => data[year][month];\n",
       "\n",
       "let doTimeTravel = (startYear, startMonth, endYear, endMonth, moneyBefore) => {\n",
       "    moneyBefore = parseFloat(moneyBefore);\n",
       "    let isDataAvailable = isRecordInData(startYear, startMonth, CPI_data) &&\n",
       "                          isRecordInData(endYear, endMonth, CPI_data);\n",
       "                          \n",
       "    if (isDataAvailable) {\n",
       "\n",
       "        outResultCertitude.innerText = \"exactly\";\n",
       "        var data = CPI_data;\n",
       "        var toBeWorthText = \"is worth\";\n",
       "    } else {\n",
       "        outResultCertitude.innerText = \"approximately\";\n",
       "        var data = CPI_pred_data;\n",
       "        var toBeWorthText = \"is estimated to be worth\";\n",
       "    }\n",
       "    let startCPI = getCPI(startYear, startMonth, data);\n",
       "    let endCPI = getCPI(endYear, endMonth, data);\n",
       "    let moneyAfter = startCPI * (moneyBefore/endCPI);\n",
       "    moneyAfter = moneyAfter.toFixed(2);\n",
       "    moneyBefore = moneyBefore.toFixed(2);\n",
       "    outMoneyAfter.innerText = moneyAfter;\n",
       "    \n",
       "    outExplanationTitle.innerText = [\n",
       "            moneyBefore + \"₾ in\", \n",
       "            MONTH_NUM_2_NAME[endMonth],\n",
       "            endYear + \"\",\n",
       "            toBeWorthText,\n",
       "            moneyAfter + \"₾ in\",\n",
       "            MONTH_NUM_2_NAME[startMonth],\n",
       "            startYear + \"\",\n",
       "        ].join(\" \");\n",
       "\n",
       "    if (isDataAvailable) {\n",
       "        outExplanationBody.innerHTML = (\n",
       "        \" Selected dates (\"\n",
       "        + MONTH_NUM_2_NAME[startMonth]\n",
       "        + \" \"\n",
       "        + startYear\n",
       "        + \" and \"\n",
       "        + MONTH_NUM_2_NAME[endMonth]\n",
       "        + \" \" \n",
       "        + endYear\n",
       "        + \")\"\n",
       "        + \" are both present in the actual CPI data from Geostat,\"\n",
       "        + \" thus the result is directly calculated from the data.\"\n",
       "        );\n",
       "    } else {\n",
       "        outExplanationBody.innerHTML = (\n",
       "        \" One (or both) of the selected dates (\"\n",
       "        + MONTH_NUM_2_NAME[startMonth]\n",
       "        + \" \"\n",
       "        + startYear\n",
       "        + \" and \"\n",
       "        + MONTH_NUM_2_NAME[endMonth]\n",
       "        + \" \" \n",
       "        + endYear\n",
       "        + \")\"\n",
       "        + \" is not present in the CPI data from Geostat,\"\n",
       "        + \" thus the result is obtained using the \"\n",
       "        + MODEL_NAME\n",
       "        + \" model.\"\n",
       "        );\n",
       "\n",
       "    }\n",
       "};\n",
       "\n",
       "let inputHandler = (e) => {\n",
       "    doTimeTravel(inFromYear.value, inFromMonth.value,\n",
       "                  inToYear.value, inToMonth.value, inMoneyBefore.value);\n",
       "                  \n",
       "};\n",
       "\n",
       "for (let el of [inFromYear, inFromMonth, inToYear, inToMonth, inMoneyBefore]){\n",
       "    el.addEventListener('input', inputHandler);\n",
       "}\n",
       "\n",
       "\n",
       "let event = document.createEvent('HTMLEvents');\n",
       "event.initEvent('input', true, false);\n",
       "inMoneyBefore.dispatchEvent(event);\n",
       "\n",
       "});\n",
       "//<\\/script>\n",
       "`;\n",
       "ttm_container.parentNode.appendChild(script);\n",
       "\n",
       "});\n",
       "</script>\n"
      ],
      "text/plain": [
       "<IPython.core.display.HTML object>"
      ]
     },
     "metadata": {},
     "output_type": "display_data"
    }
   ],
   "source": [
    "##\n",
    "# Send it back to the beggining of the notebook instead of showing here:\n",
    "##\n",
    "display(HTML(\"\"\"<script type=\"application/javascript\">\n",
    "((fn)=>{\n",
    "  if (document.readyState != 'loading'){\n",
    "    fn();\n",
    "} else {\n",
    "    document.addEventListener('DOMContentLoaded', fn);\n",
    "}\n",
    "})(()=>{\n",
    "let ttm_container = document.getElementById(\"time-traveling-machine-container\");\n",
    "\"\"\"f\"\"\"\n",
    "ttm_container.insertAdjacentHTML(\"afterbegin\", `{raw_html}`);\n",
    "let script = document.createElement('script');\n",
    "script.type=\"application/javascript\";\n",
    "script.textContent = `\"\"\"\n",
    "+ raw_js.replace(\"</script>\", \"<\\/script>\") \n",
    "+ \"\"\"`;\n",
    "ttm_container.parentNode.appendChild(script);\n",
    "\"\"\"\"\"\"\n",
    "});\n",
    "</script>\n",
    "\"\"\"))"
   ]
  },
  {
   "cell_type": "code",
   "execution_count": 31,
   "id": "f53f1122-85d5-4331-a967-e6637fb3a243",
   "metadata": {},
   "outputs": [
    {
     "name": "stdout",
     "output_type": "stream",
     "text": [
      "\n",
      " ** Total Elapsed time: 0:00:02.077411 ** \n",
      "\n",
      "Notebook END time: 2022-07-16 20:51:42.233236 UTC\n",
      "\n"
     ]
    }
   ],
   "source": [
    "print(f\"\\n ** Total Elapsed time: {datetime.utcnow() - nb_st} ** \\n\")\n",
    "print(f\"Notebook END time: {datetime.utcnow()} UTC\\n\")"
   ]
  },
  {
   "cell_type": "code",
   "execution_count": 32,
   "id": "b6a76251-afa5-45fc-969a-abc9725f4319",
   "metadata": {
    "tags": []
   },
   "outputs": [],
   "source": [
    "%%capture\n",
    "%mkdir OGP_classic"
   ]
  },
  {
   "cell_type": "code",
   "execution_count": 33,
   "id": "90a31aee-d72c-4e70-ab35-12ccfb0b512b",
   "metadata": {
    "tags": []
   },
   "outputs": [],
   "source": [
    "%%capture\n",
    "%%file \"OGP_classic/conf.json\"\n",
    "{\n",
    "  \"base_template\": \"classic\",\n",
    "  \"preprocessors\": {\n",
    "    \"500-metadata\": {\n",
    "      \"type\": \"nbconvert.preprocessors.ClearMetadataPreprocessor\",\n",
    "      \"enabled\": true,\n",
    "      \"clear_notebook_metadata\": true,\n",
    "      \"clear_cell_metadata\": true\n",
    "    },\n",
    "    \"900-files\": {\n",
    "      \"type\": \"nbconvert.preprocessors.ExtractOutputPreprocessor\",\n",
    "      \"enabled\": true\n",
    "    }\n",
    "  }\n",
    "}"
   ]
  },
  {
   "cell_type": "code",
   "execution_count": 34,
   "id": "4f4ded9b-0d68-4cfd-9e55-7eb89d8fcfad",
   "metadata": {
    "tags": []
   },
   "outputs": [],
   "source": [
    "%%capture\n",
    "%%file \"OGP_classic/index.html.j2\"\n",
    "{%- extends 'classic/index.html.j2' -%}\n",
    "{%- block html_head -%}\n",
    "\n",
    "{#  OGP attributes for shareability #}\n",
    "<meta property=\"og:url\"          content=\"https://sentinel-1.github.io/GEL_time_traveling_machine/\" />\n",
    "<meta property=\"og:type\"         content=\"article\" />\n",
    "<meta property=\"og:title\"        content=\"GEL (₾) Time Traveling Machine\" />\n",
    "<meta property=\"og:description\"  content=\"How much does inflation affect your pocket in Georgia?\" />\n",
    "<meta property=\"og:image\"        content=\"https://raw.githubusercontent.com/sentinel-1/GEL_time_traveling_machine/master/images/GEL_rocket_orange_light_alt_(1200x628).png\" />\n",
    "<meta property=\"og:image:alt\"    content=\"Logo of the GEL Time Traveling Machine\" />\n",
    "<meta property=\"og:image:type\"   content=\"image/png\" />\n",
    "<meta property=\"og:image:width\"  content=\"1200\" />\n",
    "<meta property=\"og:image:height\" content=\"628\" />\n",
    "    \n",
    "<meta property=\"article:published_time\" content=\"2022-06-26T23:07:36+00:00\" />\n",
    "<meta property=\"article:modified_time\"  content=\"{{ resources.iso8610_datetime_now }}\" />\n",
    "<meta property=\"article:publisher\"      content=\"https://sentinel-1.github.io\" />\n",
    "<meta property=\"article:author\"         content=\"https://github.com/sentinel-1\" />\n",
    "<meta property=\"article:section\"        content=\"datascience\" />\n",
    "<meta property=\"article:tag\"            content=\"datascience\" />\n",
    "<meta property=\"article:tag\"            content=\"Python\" />\n",
    "<meta property=\"article:tag\"            content=\"data\" />\n",
    "<meta property=\"article:tag\"            content=\"analytics\" />\n",
    "<meta property=\"article:tag\"            content=\"datavisualization\" />\n",
    "<meta property=\"article:tag\"            content=\"bigdataunit\" />\n",
    "<meta property=\"article:tag\"            content=\"visualization\" />\n",
    "<meta property=\"article:tag\"            content=\"inflation\" />\n",
    "<meta property=\"article:tag\"            content=\"GEL\" />\n",
    "<meta property=\"article:tag\"            content=\"Lari\" />\n",
    "<meta property=\"article:tag\"            content=\"CPI\" />\n",
    "<meta property=\"article:tag\"            content=\"timetravelingmachine\" />\n",
    "    \n",
    "    \n",
    "{{ super() }}\n",
    "\n",
    "{%- endblock html_head -%}\n",
    "    \n",
    "    \n",
    "{% block body_header %}\n",
    "<body>\n",
    "    \n",
    "<div class=\"container\">\n",
    "  <nav class=\"navbar navbar-default\">\n",
    "    <div class=\"container-fluid\">\n",
    "      <ul class=\"nav nav-pills  navbar-left\">\n",
    "        <li role=\"presentation\">\n",
    "          <a href=\"/\">\n",
    "            <svg xmlns=\"http://www.w3.org/2000/svg\"\n",
    "                 viewBox=\"0 0 576 512\" width=\"1em\">\n",
    "              <path \n",
    "                fill=\"#999999\"\n",
    "d=\"M 288,0 574,288 511,288 511,511 352,511 352,352 223,352 223,511 62,511 64,288 0,288 Z\"\n",
    "              />\n",
    "            </svg> Home\n",
    "          </a>\n",
    "        </li>\n",
    "      </ul>\n",
    "      <ul class=\"nav nav-pills  navbar-right\">\n",
    "        <li role=\"presentation\" class=\"active\">\n",
    "          <a href=\"/GEL_time_traveling_machine/\">🇬🇧 English </a>\n",
    "        </li>\n",
    "        <li role=\"presentation\">\n",
    "          <a href=\"/GEL_time_traveling_machine/ka/\">🇬🇪 ქართული</a>\n",
    "        </li>\n",
    "      </ul>\n",
    "    </div>\n",
    "  </nav>\n",
    "</div>\n",
    "\n",
    "\n",
    "\n",
    "  <div tabindex=\"-1\" id=\"notebook\" class=\"border-box-sizing\">\n",
    "    <div class=\"container\" id=\"notebook-container\">    \n",
    "{% endblock body_header %}\n",
    "\n",
    "{% block body_footer %}\n",
    "    </div>\n",
    "  </div>\n",
    "  <footer>\n",
    "    <div class=\"container\"\n",
    "         style=\"display:flex; flex-direction: row; justify-content: center; align-items: center;\">\n",
    "      <p style=\"margin: 3.7em auto;\"> © 2022\n",
    "        <a href=\"https://github.com/sentinel-1\" target=\"_blank\">Sentinel-1</a>\n",
    "      </p>\n",
    "      <!-- TOP.GE ASYNC COUNTER CODE -->\n",
    "      <div id=\"top-ge-counter-container\" data-site-id=\"116052\"\n",
    "           style=\"margin-right: 3.7em;float: right;\"></div>\n",
    "      <script async src=\"//counter.top.ge/counter.js\"></script>\n",
    "      <!-- / END OF TOP.GE COUNTER CODE -->\n",
    "      <!-- ANALYTICS.LAGOGAL.COM -->\n",
    "      <div id=\"analytics-lagogal-com-access\" data-site-id=\"20221\"\n",
    "           style=\"margin: 0;padding: 0;\"></div>\n",
    "      <script async src=\"//analytics.lagogal.com/access.js\"></script>\n",
    "      <!-- / END OF ANALYTICS.LAGOGAL.COM -->\n",
    "     </div>\n",
    "  </footer>\n",
    "</body>\n",
    "{% endblock body_footer %}"
   ]
  },
  {
   "cell_type": "markdown",
   "id": "2a2fa3cc-4b69-4135-b111-dc9f9d9f9602",
   "metadata": {},
   "source": [
    "*This notebook is originally published under the Apache License (Version 2.0) at the following GitHub repository: [sentinel-1/GEL_time_traveling_machine](https://github.com/sentinel-1/GEL_time_traveling_machine)*\n",
    "\n",
    "For the issues, feedback or suggestions regarding the original notebook (if any) feel free to open an issue at the corresponding [Issues page of the repository](https://github.com/sentinel-1/GEL_time_traveling_machine/issues)"
   ]
  }
 ],
 "metadata": {
  "kernelspec": {
   "display_name": "Python 3 (ipykernel)",
   "language": "python",
   "name": "python3"
  },
  "language_info": {
   "codemirror_mode": {
    "name": "ipython",
    "version": 3
   },
   "file_extension": ".py",
   "mimetype": "text/x-python",
   "name": "python",
   "nbconvert_exporter": "python",
   "pygments_lexer": "ipython3",
   "version": "3.9.2"
  }
 },
 "nbformat": 4,
 "nbformat_minor": 5
}
